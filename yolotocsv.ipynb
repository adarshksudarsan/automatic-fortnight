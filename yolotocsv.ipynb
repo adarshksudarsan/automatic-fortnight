{
 "cells": [
  {
   "cell_type": "code",
   "execution_count": 1,
   "metadata": {},
   "outputs": [],
   "source": [
    "import os\n",
    "import glob\n",
    "import pandas as pd\n",
    "import numpy as np\n",
    "#LABELS\n",
    "names = ['fish', 'jellyfish', 'penguin', 'puffin', 'shark', 'starfish', 'stingray']"
   ]
  },
  {
   "cell_type": "code",
   "execution_count": 2,
   "metadata": {},
   "outputs": [],
   "source": [
    "label_dir = \"/home/aiml-3080/Music/ad/Aquarium Combined.v2-raw-1024.yolov5pytorch/train/labels/\"\n",
    "os.chdir(label_dir)\n",
    "myFiles = glob.glob('*.txt')\n",
    "# print((myFiles))"
   ]
  },
  {
   "cell_type": "code",
   "execution_count": 3,
   "metadata": {},
   "outputs": [
    {
     "name": "stdout",
     "output_type": "stream",
     "text": [
      "4 0.4993489583333333 0.689453125 0.9986979166666666 0.619140625\n",
      "\n",
      "0 0.6953125 0.4638671875 0.12760416666666666 0.205078125\n",
      "\n",
      "0 0.099609375 0.734375 0.19921875 0.181640625\n",
      "\n",
      "0 0.125 0.83984375 0.08333333333333333 0.083984375\n",
      "\n",
      "0 0.45703125 0.833984375 0.16796875 0.076171875\n",
      "\n",
      "0 0.01953125 0.8388671875 0.0390625 0.0576171875\n"
     ]
    }
   ],
   "source": [
    "f = open('IMG_2435_jpeg_jpg.rf.90d0f2a9a2603d0d00e44c54ea34d8a1.txt', 'r+')\n",
    "for line in f.readlines():\n",
    "    print (line)\n",
    "f.close()"
   ]
  },
  {
   "cell_type": "code",
   "execution_count": 4,
   "metadata": {},
   "outputs": [
    {
     "name": "stdout",
     "output_type": "stream",
     "text": [
      "Counter({'fish': 1961, 'jellyfish': 385, 'penguin': 330, 'shark': 259, 'puffin': 175, 'stingray': 136, 'starfish': 78})\n"
     ]
    }
   ],
   "source": [
    "import collections\n",
    "count = []\n",
    "for file_txt in myFiles :\n",
    "    with open(str(file_txt), 'r') as fd:\n",
    "        for first_line in fd.readlines():\n",
    "#             print(first_line)\n",
    "            splited = first_line.split();\n",
    "#         print(splited[0])\n",
    "\n",
    "            count.append(names[int(splited[0])])\n",
    "#     print(file_txt)\n",
    "# print(count)\n",
    "counter=collections.Counter(count)\n",
    "print((counter))"
   ]
  },
  {
   "cell_type": "code",
   "execution_count": 5,
   "metadata": {},
   "outputs": [
    {
     "data": {
      "image/png": "[encoded data removed]",
      "text/plain": [
       "<Figure size 720x360 with 1 Axes>"
      ]
     },
     "metadata": {
      "needs_background": "light"
     },
     "output_type": "display_data"
    }
   ],
   "source": [
    "import numpy as np\n",
    "import matplotlib.pyplot as plt\n",
    "\n",
    "\n",
    "# creating the dataset\n",
    "data = counter\n",
    "classes = list(data.keys())\n",
    "numbers = list(data.values())\n",
    "\n",
    "fig = plt.figure(figsize = (10, 5))\n",
    "\n",
    "# creating the bar plot\n",
    "plt.bar(classes, numbers, color ='grey',\n",
    "\t\twidth = 0.4)\n",
    "# for i in range(len(courses)):\n",
    "#         plt.text(i,values[i],values[i])\n",
    "for index,_ in enumerate(classes):\n",
    "        plt.text(index,numbers[index],str(numbers[index]))\n",
    "\n",
    "plt.xlabel(\"class\")\n",
    "plt.ylabel(\"number\")\n",
    "plt.title(\"Dataset \")\n",
    "plt.show()\n"
   ]
  },
  {
   "cell_type": "code",
   "execution_count": null,
   "metadata": {},
   "outputs": [],
   "source": []
  },
  {
   "cell_type": "code",
   "execution_count": null,
   "metadata": {},
   "outputs": [],
   "source": []
  }
 ],
 "metadata": {
  "kernelspec": {
   "display_name": "Python 3",
   "language": "python",
   "name": "python3"
  },
  "language_info": {
   "codemirror_mode": {
    "name": "ipython",
    "version": 3
   },
   "file_extension": ".py",
   "mimetype": "text/x-python",
   "name": "python",
   "nbconvert_exporter": "python",
   "pygments_lexer": "ipython3",
   "version": "3.7.6"
  }
 },
 "nbformat": 4,
 "nbformat_minor": 4
}
